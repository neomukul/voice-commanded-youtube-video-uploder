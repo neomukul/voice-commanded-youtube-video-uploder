{
 "cells": [
  {
   "cell_type": "code",
   "execution_count": null,
   "metadata": {},
   "outputs": [],
   "source": [
    "from gtts import gTTS\n",
    "import os\n",
    "from playsound import playsound"
   ]
  },
  {
   "cell_type": "code",
   "execution_count": null,
   "metadata": {},
   "outputs": [],
   "source": [
    "# One liner conversion\n",
    "text = \"I study in Novosibirsk State University\"\n",
    "language = 'en'"
   ]
  },
  {
   "cell_type": "code",
   "execution_count": null,
   "metadata": {},
   "outputs": [],
   "source": [
    "# convert a txt file to audio.\n",
    "#file = open(\"audio_test.txt\",\"r\")\n",
    "#text = file.read().replace(\"\\n\",\"\")"
   ]
  },
  {
   "cell_type": "code",
   "execution_count": null,
   "metadata": {},
   "outputs": [],
   "source": [
    "output = gTTS(text=text, lang=language, slow=False)\n",
    "\n",
    "#output.save(\"output.mp3\")\n",
    "output.save(\"output.wav\")"
   ]
  },
  {
   "cell_type": "code",
   "execution_count": null,
   "metadata": {},
   "outputs": [],
   "source": [
    "file.close()"
   ]
  },
  {
   "cell_type": "code",
   "execution_count": null,
   "metadata": {},
   "outputs": [],
   "source": [
    "#os.system(\"start output.wav\")\n",
    "playsound(\"output.wav\")"
   ]
  },
  {
   "cell_type": "markdown",
   "metadata": {},
   "source": [
    "# Using pyttsx3"
   ]
  },
  {
   "cell_type": "code",
   "execution_count": 70,
   "metadata": {},
   "outputs": [],
   "source": [
    "import pyttsx3"
   ]
  },
  {
   "cell_type": "code",
   "execution_count": null,
   "metadata": {},
   "outputs": [],
   "source": [
    "engine = pyttsx3.init()\n",
    "#voices = engine.getProperty('voices') \n",
    "#engine.setProperty('rate', 150) \n",
    "#engine.setProperty('voice', voices[1].id) \n",
    "engine.say(\"I will speak this text\")\n",
    "engine.runAndWait()"
   ]
  },
  {
   "cell_type": "markdown",
   "metadata": {},
   "source": [
    "# Voice commanded youtube video uploader"
   ]
  },
  {
   "cell_type": "code",
   "execution_count": 129,
   "metadata": {},
   "outputs": [],
   "source": [
    "import datetime\n",
    "from googleapiclient.http import MediaFileUpload\n",
    "from googleapiclient.discovery import build\n",
    "from google_auth_oauthlib.flow import InstalledAppFlow\n",
    "from google.auth.transport.requests import Request\n",
    "from apikey import apikey\n",
    "import os\n",
    "import re\n",
    "import os.path\n",
    "import time\n",
    "import speech_recognition as sr\n",
    "from gtts import gTTS \n",
    "from playsound import playsound"
   ]
  },
  {
   "cell_type": "code",
   "execution_count": 130,
   "metadata": {},
   "outputs": [
    {
     "name": "stdout",
     "output_type": "stream",
     "text": [
      "/home/neo/Old_data/Upload\n"
     ]
    }
   ],
   "source": [
    "cd /home/neo/Old_data/Upload"
   ]
  },
  {
   "cell_type": "code",
   "execution_count": 113,
   "metadata": {},
   "outputs": [],
   "source": [
    "#SUBJECT = ['academic seminar','management','distributed','image','enterprenuarship','social','Quantum','academic']\n"
   ]
  },
  {
   "cell_type": "code",
   "execution_count": 131,
   "metadata": {},
   "outputs": [
    {
     "name": "stdout",
     "output_type": "stream",
     "text": [
      "upload files\n",
      "Please visit this URL to authorize this application: https://accounts.google.com/o/oauth2/auth?response_type=code&client_id=768871100406-opnjt2uv4vcdtgn5d9g1f4aqndsrab50.apps.googleusercontent.com&redirect_uri=urn%3Aietf%3Awg%3Aoauth%3A2.0%3Aoob&scope=https%3A%2F%2Fwww.googleapis.com%2Fauth%2Fyoutube.force-ssl&state=vVynP7H0DIRqkqKQul4uaxESfEQFSN&prompt=consent&access_type=offline\n",
      "Enter the authorization code: 4/4gGmxjvmq64y8vDkjOrVJq7LcymgBlzWjPU8S69J1X1G4lYtaAMELQg\n"
     ]
    },
    {
     "data": {
      "text/plain": [
       "{'kind': 'youtube#video',\n",
       " 'etag': '8_GK5ePKlWlsMI6bNLVNFQB8M-Q',\n",
       " 'id': '7ks0mlcgO5c',\n",
       " 'snippet': {'publishedAt': '2020-09-23T14:09:13Z',\n",
       "  'channelId': 'UCtmKm2-bwqUj07vYR3pycaw',\n",
       "  'title': 'seminar.mp4',\n",
       "  'description': 'seminar.mp4',\n",
       "  'thumbnails': {'default': {'url': 'https://i.ytimg.com/vi/7ks0mlcgO5c/default.jpg',\n",
       "    'width': 120,\n",
       "    'height': 90},\n",
       "   'medium': {'url': 'https://i.ytimg.com/vi/7ks0mlcgO5c/mqdefault.jpg',\n",
       "    'width': 320,\n",
       "    'height': 180},\n",
       "   'high': {'url': 'https://i.ytimg.com/vi/7ks0mlcgO5c/hqdefault.jpg',\n",
       "    'width': 480,\n",
       "    'height': 360}},\n",
       "  'channelTitle': 'BigData NSU',\n",
       "  'categoryId': '27',\n",
       "  'liveBroadcastContent': 'none',\n",
       "  'localized': {'title': 'seminar.mp4', 'description': 'seminar.mp4'}},\n",
       " 'status': {'uploadStatus': 'uploaded',\n",
       "  'privacyStatus': 'unlisted',\n",
       "  'license': 'youtube',\n",
       "  'embeddable': True,\n",
       "  'publicStatsViewable': True,\n",
       "  'selfDeclaredMadeForKids': False}}"
      ]
     },
     "execution_count": 131,
     "metadata": {},
     "output_type": "execute_result"
    }
   ],
   "source": [
    "def upload_video(title):\n",
    "    CLIENT_SECRET_FILE = 'Desktop_secret.json'\n",
    "    SCOPES = ['https://www.googleapis.com/auth/youtube.force-ssl']\n",
    "    flow = InstalledAppFlow.from_client_secrets_file(CLIENT_SECRET_FILE, SCOPES)\n",
    "    credentials = flow.run_console()\n",
    "    youtube = build('youtube', 'v3', credentials=credentials)\n",
    "    \n",
    "    request_body = {\n",
    "        'snippet': {\n",
    "            'categoryI': 19,\n",
    "            'title': title,\n",
    "            'description': title,\n",
    "            #'tags': ['Python', 'Lecture']\n",
    "         },\n",
    "        'status': {\n",
    "            'privacyStatus': 'unlisted',\n",
    "            #'publishAt': upload_date_time,\n",
    "            'selfDeclaredMadeForKids': False, \n",
    "            #'Playlists': 'BDA&AI the master program'\n",
    "        },\n",
    "       'notifySubscribers': False\n",
    "    }   \n",
    "    \n",
    "    \n",
    "    \n",
    "    \n",
    "    mediaFile = MediaFileUpload(get_file(text))\n",
    "\n",
    "    response_upload = youtube.videos().insert(\n",
    "                                              part='snippet,status',\n",
    "                                              body=request_body,\n",
    "                                              media_body=mediaFile\n",
    "                                              ).execute()\n",
    "\n",
    "    return response_upload  \n",
    "    \n",
    "    \n",
    "def get_file(text):\n",
    "    pat = \"\\.mp4$\"\n",
    "    for file in files:\n",
    "        if(re.search(pat,file)):\n",
    "            return file\n",
    "            \n",
    "    \n",
    "    \n",
    "def speak(text):\n",
    "    output = gTTS(text=text, lang=\"en\", slow=False)\n",
    "    output.save(\"recording.mp3\")\n",
    "    playsound(\"recording.mp3\")\n",
    "    \n",
    "def get_audio():\n",
    "    rec = sr.Recognizer()\n",
    "    with sr.Microphone() as source:\n",
    "        audio = rec.listen(source)\n",
    "        said = ' '\n",
    "        \n",
    "        try:\n",
    "            said = rec.recognize_google(audio)\n",
    "            print(said)\n",
    "        except Exception as e:\n",
    "            print(\"Exception:\" + str(e))\n",
    "            \n",
    "    return said     \n",
    "    \n",
    "text = get_audio().lower()\n",
    "upload_video(get_file(text))\n",
    "    \n",
    "    \n",
    "\n"
   ]
  },
  {
   "cell_type": "code",
   "execution_count": null,
   "metadata": {},
   "outputs": [],
   "source": []
  }
 ],
 "metadata": {
  "kernelspec": {
   "display_name": "Python 3",
   "language": "python",
   "name": "python3"
  },
  "language_info": {
   "codemirror_mode": {
    "name": "ipython",
    "version": 3
   },
   "file_extension": ".py",
   "mimetype": "text/x-python",
   "name": "python",
   "nbconvert_exporter": "python",
   "pygments_lexer": "ipython3",
   "version": "3.8.2"
  }
 },
 "nbformat": 4,
 "nbformat_minor": 4
}
