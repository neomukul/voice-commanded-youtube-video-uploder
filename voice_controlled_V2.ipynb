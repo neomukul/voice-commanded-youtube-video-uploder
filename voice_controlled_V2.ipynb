{
 "cells": [
  {
   "cell_type": "code",
   "execution_count": null,
   "metadata": {},
   "outputs": [],
   "source": [
    "from gtts import gTTS\n",
    "import os\n",
    "from playsound import playsound"
   ]
  },
  {
   "cell_type": "code",
   "execution_count": null,
   "metadata": {},
   "outputs": [],
   "source": [
    "# One liner conversion\n",
    "text = \"I study in Novosibirsk State University\"\n",
    "language = 'en'"
   ]
  },
  {
   "cell_type": "code",
   "execution_count": null,
   "metadata": {},
   "outputs": [],
   "source": [
    "# convert a txt file to audio.\n",
    "#file = open(\"audio_test.txt\",\"r\")\n",
    "#text = file.read().replace(\"\\n\",\"\")"
   ]
  },
  {
   "cell_type": "code",
   "execution_count": null,
   "metadata": {},
   "outputs": [],
   "source": [
    "output = gTTS(text=text, lang=language, slow=False)\n",
    "\n",
    "#output.save(\"output.mp3\")\n",
    "output.save(\"output.wav\")"
   ]
  },
  {
   "cell_type": "code",
   "execution_count": null,
   "metadata": {},
   "outputs": [],
   "source": [
    "file.close()"
   ]
  },
  {
   "cell_type": "code",
   "execution_count": null,
   "metadata": {},
   "outputs": [],
   "source": [
    "#os.system(\"start output.wav\")\n",
    "playsound(\"output.wav\")"
   ]
  },
  {
   "cell_type": "markdown",
   "metadata": {},
   "source": [
    "# Using pyttsx3"
   ]
  },
  {
   "cell_type": "code",
   "execution_count": 70,
   "metadata": {},
   "outputs": [],
   "source": [
    "import pyttsx3"
   ]
  },
  {
   "cell_type": "code",
   "execution_count": null,
   "metadata": {},
   "outputs": [],
   "source": [
    "engine = pyttsx3.init()\n",
    "#voices = engine.getProperty('voices') \n",
    "#engine.setProperty('rate', 150) \n",
    "#engine.setProperty('voice', voices[1].id) \n",
    "engine.say(\"I will speak this text\")\n",
    "engine.runAndWait()"
   ]
  },
  {
   "cell_type": "markdown",
   "metadata": {},
   "source": [
    "# Voice commanded youtube video uploader"
   ]
  },
  {
   "cell_type": "code",
   "execution_count": 132,
   "metadata": {},
   "outputs": [],
   "source": [
    "import datetime\n",
    "from googleapiclient.http import MediaFileUpload\n",
    "from googleapiclient.discovery import build\n",
    "from google_auth_oauthlib.flow import InstalledAppFlow\n",
    "from google.auth.transport.requests import Request\n",
    "from apikey import apikey\n",
    "import os\n",
    "import re\n",
    "import os.path\n",
    "import time\n",
    "import speech_recognition as sr\n",
    "from gtts import gTTS \n",
    "from playsound import playsound"
   ]
  },
  {
   "cell_type": "code",
   "execution_count": 150,
   "metadata": {},
   "outputs": [],
   "source": [
    "import pickle\n",
    "import os.path"
   ]
  },
  {
   "cell_type": "code",
   "execution_count": 133,
   "metadata": {},
   "outputs": [
    {
     "name": "stdout",
     "output_type": "stream",
     "text": [
      "/home/neo/Old_data/Upload\n"
     ]
    }
   ],
   "source": [
    "cd /home/neo/Old_data/Upload"
   ]
  },
  {
   "cell_type": "code",
   "execution_count": 137,
   "metadata": {},
   "outputs": [],
   "source": [
    "#SUBJECT = ['academic seminar','management','distributed','image','enterprenuarship','social','Quantum','academic']\n",
    "CLIENT_SECRET_FILE = 'Desktop_secret.json'\n",
    "SCOPES = ['https://www.googleapis.com/auth/youtube.force-ssl']"
   ]
  },
  {
   "cell_type": "code",
   "execution_count": 169,
   "metadata": {},
   "outputs": [
    {
     "name": "stdout",
     "output_type": "stream",
     "text": [
      "Start\n",
      "put on YouTube\n",
      "{'kind': 'youtube#video', 'etag': 'jgz77IllVN3HO8kRdzauE8uIv2w', 'id': 'KZcPOXr8l74', 'snippet': {'publishedAt': '2020-09-24T16:23:18Z', 'channelId': 'UCtmKm2-bwqUj07vYR3pycaw', 'title': 'seminar.mp4', 'description': 'seminar.mp4', 'thumbnails': {'default': {'url': 'https://i.ytimg.com/vi/KZcPOXr8l74/default.jpg', 'width': 120, 'height': 90}, 'medium': {'url': 'https://i.ytimg.com/vi/KZcPOXr8l74/mqdefault.jpg', 'width': 320, 'height': 180}, 'high': {'url': 'https://i.ytimg.com/vi/KZcPOXr8l74/hqdefault.jpg', 'width': 480, 'height': 360}}, 'channelTitle': 'BigData NSU', 'categoryId': '27', 'liveBroadcastContent': 'none', 'localized': {'title': 'seminar.mp4', 'description': 'seminar.mp4'}}, 'status': {'uploadStatus': 'uploaded', 'privacyStatus': 'unlisted', 'license': 'youtube', 'embeddable': True, 'publicStatsViewable': True, 'selfDeclaredMadeForKids': False}}\n"
     ]
    }
   ],
   "source": [
    "def upload_video(title):\n",
    "    creds = None\n",
    "    if os.path.exists('token.pickle'):\n",
    "        with open('token.pickle', 'rb') as token:\n",
    "            creds = pickle.load(token)\n",
    "            \n",
    "    if not creds or not creds.valid:\n",
    "        if creds and creds.expired and creds.refresh_token:\n",
    "            creds.refresh(Request())\n",
    "        else:\n",
    "            flow = InstalledAppFlow.from_client_secrets_file(CLIENT_SECRET_FILE, SCOPES)\n",
    "            creds = flow.run_console()\n",
    "            \n",
    "        with open('token.pickle', 'wb') as token:\n",
    "            pickle.dump(creds, token) \n",
    "            \n",
    "    youtube = build('youtube', 'v3', credentials=creds)\n",
    "  \n",
    "    request_body = {\n",
    "        'snippet': {\n",
    "            'categoryI': 19,\n",
    "            'title': title,\n",
    "            'description': title,\n",
    "            #'tags': ['Python', 'Lecture']\n",
    "         },\n",
    "        'status': {\n",
    "            'privacyStatus': 'unlisted',\n",
    "            #'publishAt': upload_date_time,\n",
    "            'selfDeclaredMadeForKids': False, \n",
    "            #'Playlists': 'BDA&AI the master program'\n",
    "        },\n",
    "       'notifySubscribers': False\n",
    "    }   \n",
    "    \n",
    "    \n",
    "    \n",
    "    \n",
    "    mediaFile = MediaFileUpload(get_file(text))\n",
    "\n",
    "    response_upload = youtube.videos().insert(\n",
    "                                              part='snippet,status',\n",
    "                                              body=request_body,\n",
    "                                              media_body=mediaFile\n",
    "                                              ).execute()\n",
    "\n",
    "    print(response_upload)  \n",
    "    \n",
    "    \n",
    "def get_file(text):\n",
    "    pat = \"\\.mp4$\"\n",
    "    for file in files:\n",
    "        if(re.search(pat,file)):\n",
    "            return file\n",
    "            \n",
    "    \n",
    "    \n",
    "def speak(text):\n",
    "    output = gTTS(text=text, lang=\"en\", slow=False)\n",
    "    output.save(\"recording.mp3\")\n",
    "    playsound(\"recording.mp3\")\n",
    "    \n",
    "def get_audio():\n",
    "    rec = sr.Recognizer()\n",
    "    with sr.Microphone() as source:\n",
    "        audio = rec.listen(source)\n",
    "        said = ' '\n",
    "        \n",
    "        try:\n",
    "            said = rec.recognize_google(audio)\n",
    "            print(said)\n",
    "        except Exception as e:\n",
    "            print(\"Exception:\" + str(e))\n",
    "            \n",
    "    return said     \n",
    "\n",
    "print(\"Start\")\n",
    "    \n",
    "text = get_audio().lower()\n",
    "\n",
    "\n",
    "COMMAND = ['upload','put online','made unlist','put on youtube']\n",
    "for word in COMMAND:\n",
    "    if word in text:\n",
    "        upload_video(get_file(text))\n",
    "    \n",
    "    \n",
    "\n"
   ]
  },
  {
   "cell_type": "code",
   "execution_count": null,
   "metadata": {},
   "outputs": [],
   "source": []
  }
 ],
 "metadata": {
  "kernelspec": {
   "display_name": "Python 3",
   "language": "python",
   "name": "python3"
  },
  "language_info": {
   "codemirror_mode": {
    "name": "ipython",
    "version": 3
   },
   "file_extension": ".py",
   "mimetype": "text/x-python",
   "name": "python",
   "nbconvert_exporter": "python",
   "pygments_lexer": "ipython3",
   "version": "3.8.2"
  }
 },
 "nbformat": 4,
 "nbformat_minor": 4
}
